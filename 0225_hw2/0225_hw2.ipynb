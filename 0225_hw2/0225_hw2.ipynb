{
  "nbformat": 4,
  "nbformat_minor": 0,
  "metadata": {
    "colab": {
      "provenance": [],
      "gpuType": "T4",
      "mount_file_id": "1dLzg81LfpHwOku1pVMF7KXMm973JXfqK",
      "authorship_tag": "ABX9TyMUaH6d1PvOgG0Hme6+X0Pl",
      "include_colab_link": true
    },
    "kernelspec": {
      "name": "python3",
      "display_name": "Python 3"
    },
    "language_info": {
      "name": "python"
    },
    "accelerator": "GPU"
  },
  "cells": [
    {
      "cell_type": "markdown",
      "metadata": {
        "id": "view-in-github",
        "colab_type": "text"
      },
      "source": [
        "<a href=\"https://colab.research.google.com/github/cy643/generative_ai/blob/main/0225_hw2/0225_hw2.ipynb\" target=\"_parent\"><img src=\"https://colab.research.google.com/assets/colab-badge.svg\" alt=\"Open In Colab\"/></a>"
      ]
    },
    {
      "cell_type": "markdown",
      "source": [
        "# 0225_hw2\n",
        "打造自己的DNN(全連結)手寫辨識。  \n",
        "1. 下載套件與資料集"
      ],
      "metadata": {
        "id": "jVgl9fDfs145"
      }
    },
    {
      "cell_type": "code",
      "execution_count": null,
      "metadata": {
        "colab": {
          "base_uri": "https://localhost:8080/"
        },
        "id": "XGUjcWk7aDkq",
        "outputId": "328c790e-f79a-4026-b7d6-238306b5577d"
      },
      "outputs": [
        {
          "output_type": "stream",
          "name": "stdout",
          "text": [
            "Collecting gradio\n",
            "  Downloading gradio-5.20.1-py3-none-any.whl.metadata (16 kB)\n",
            "Collecting aiofiles<24.0,>=22.0 (from gradio)\n",
            "  Downloading aiofiles-23.2.1-py3-none-any.whl.metadata (9.7 kB)\n",
            "Requirement already satisfied: anyio<5.0,>=3.0 in /usr/local/lib/python3.11/dist-packages (from gradio) (3.7.1)\n",
            "Collecting fastapi<1.0,>=0.115.2 (from gradio)\n",
            "  Downloading fastapi-0.115.11-py3-none-any.whl.metadata (27 kB)\n",
            "Collecting ffmpy (from gradio)\n",
            "  Downloading ffmpy-0.5.0-py3-none-any.whl.metadata (3.0 kB)\n",
            "Collecting gradio-client==1.7.2 (from gradio)\n",
            "  Downloading gradio_client-1.7.2-py3-none-any.whl.metadata (7.1 kB)\n",
            "Collecting groovy~=0.1 (from gradio)\n",
            "  Downloading groovy-0.1.2-py3-none-any.whl.metadata (6.1 kB)\n",
            "Requirement already satisfied: httpx>=0.24.1 in /usr/local/lib/python3.11/dist-packages (from gradio) (0.28.1)\n",
            "Requirement already satisfied: huggingface-hub>=0.28.1 in /usr/local/lib/python3.11/dist-packages (from gradio) (0.28.1)\n",
            "Requirement already satisfied: jinja2<4.0 in /usr/local/lib/python3.11/dist-packages (from gradio) (3.1.5)\n",
            "Collecting markupsafe~=2.0 (from gradio)\n",
            "  Downloading MarkupSafe-2.1.5-cp311-cp311-manylinux_2_17_x86_64.manylinux2014_x86_64.whl.metadata (3.0 kB)\n",
            "Requirement already satisfied: numpy<3.0,>=1.0 in /usr/local/lib/python3.11/dist-packages (from gradio) (1.26.4)\n",
            "Requirement already satisfied: orjson~=3.0 in /usr/local/lib/python3.11/dist-packages (from gradio) (3.10.15)\n",
            "Requirement already satisfied: packaging in /usr/local/lib/python3.11/dist-packages (from gradio) (24.2)\n",
            "Requirement already satisfied: pandas<3.0,>=1.0 in /usr/local/lib/python3.11/dist-packages (from gradio) (2.2.2)\n",
            "Requirement already satisfied: pillow<12.0,>=8.0 in /usr/local/lib/python3.11/dist-packages (from gradio) (11.1.0)\n",
            "Requirement already satisfied: pydantic>=2.0 in /usr/local/lib/python3.11/dist-packages (from gradio) (2.10.6)\n",
            "Collecting pydub (from gradio)\n",
            "  Downloading pydub-0.25.1-py2.py3-none-any.whl.metadata (1.4 kB)\n",
            "Collecting python-multipart>=0.0.18 (from gradio)\n",
            "  Downloading python_multipart-0.0.20-py3-none-any.whl.metadata (1.8 kB)\n",
            "Requirement already satisfied: pyyaml<7.0,>=5.0 in /usr/local/lib/python3.11/dist-packages (from gradio) (6.0.2)\n",
            "Collecting ruff>=0.9.3 (from gradio)\n",
            "  Downloading ruff-0.9.10-py3-none-manylinux_2_17_x86_64.manylinux2014_x86_64.whl.metadata (25 kB)\n",
            "Collecting safehttpx<0.2.0,>=0.1.6 (from gradio)\n",
            "  Downloading safehttpx-0.1.6-py3-none-any.whl.metadata (4.2 kB)\n",
            "Collecting semantic-version~=2.0 (from gradio)\n",
            "  Downloading semantic_version-2.10.0-py2.py3-none-any.whl.metadata (9.7 kB)\n",
            "Collecting starlette<1.0,>=0.40.0 (from gradio)\n",
            "  Downloading starlette-0.46.1-py3-none-any.whl.metadata (6.2 kB)\n",
            "Collecting tomlkit<0.14.0,>=0.12.0 (from gradio)\n",
            "  Downloading tomlkit-0.13.2-py3-none-any.whl.metadata (2.7 kB)\n",
            "Requirement already satisfied: typer<1.0,>=0.12 in /usr/local/lib/python3.11/dist-packages (from gradio) (0.15.2)\n",
            "Requirement already satisfied: typing-extensions~=4.0 in /usr/local/lib/python3.11/dist-packages (from gradio) (4.12.2)\n",
            "Collecting uvicorn>=0.14.0 (from gradio)\n",
            "  Downloading uvicorn-0.34.0-py3-none-any.whl.metadata (6.5 kB)\n",
            "Requirement already satisfied: fsspec in /usr/local/lib/python3.11/dist-packages (from gradio-client==1.7.2->gradio) (2024.10.0)\n",
            "Requirement already satisfied: websockets<16.0,>=10.0 in /usr/local/lib/python3.11/dist-packages (from gradio-client==1.7.2->gradio) (14.2)\n",
            "Requirement already satisfied: idna>=2.8 in /usr/local/lib/python3.11/dist-packages (from anyio<5.0,>=3.0->gradio) (3.10)\n",
            "Requirement already satisfied: sniffio>=1.1 in /usr/local/lib/python3.11/dist-packages (from anyio<5.0,>=3.0->gradio) (1.3.1)\n",
            "Requirement already satisfied: certifi in /usr/local/lib/python3.11/dist-packages (from httpx>=0.24.1->gradio) (2025.1.31)\n",
            "Requirement already satisfied: httpcore==1.* in /usr/local/lib/python3.11/dist-packages (from httpx>=0.24.1->gradio) (1.0.7)\n",
            "Requirement already satisfied: h11<0.15,>=0.13 in /usr/local/lib/python3.11/dist-packages (from httpcore==1.*->httpx>=0.24.1->gradio) (0.14.0)\n",
            "Requirement already satisfied: filelock in /usr/local/lib/python3.11/dist-packages (from huggingface-hub>=0.28.1->gradio) (3.17.0)\n",
            "Requirement already satisfied: requests in /usr/local/lib/python3.11/dist-packages (from huggingface-hub>=0.28.1->gradio) (2.32.3)\n",
            "Requirement already satisfied: tqdm>=4.42.1 in /usr/local/lib/python3.11/dist-packages (from huggingface-hub>=0.28.1->gradio) (4.67.1)\n",
            "Requirement already satisfied: python-dateutil>=2.8.2 in /usr/local/lib/python3.11/dist-packages (from pandas<3.0,>=1.0->gradio) (2.8.2)\n",
            "Requirement already satisfied: pytz>=2020.1 in /usr/local/lib/python3.11/dist-packages (from pandas<3.0,>=1.0->gradio) (2025.1)\n",
            "Requirement already satisfied: tzdata>=2022.7 in /usr/local/lib/python3.11/dist-packages (from pandas<3.0,>=1.0->gradio) (2025.1)\n",
            "Requirement already satisfied: annotated-types>=0.6.0 in /usr/local/lib/python3.11/dist-packages (from pydantic>=2.0->gradio) (0.7.0)\n",
            "Requirement already satisfied: pydantic-core==2.27.2 in /usr/local/lib/python3.11/dist-packages (from pydantic>=2.0->gradio) (2.27.2)\n",
            "Requirement already satisfied: click>=8.0.0 in /usr/local/lib/python3.11/dist-packages (from typer<1.0,>=0.12->gradio) (8.1.8)\n",
            "Requirement already satisfied: shellingham>=1.3.0 in /usr/local/lib/python3.11/dist-packages (from typer<1.0,>=0.12->gradio) (1.5.4)\n",
            "Requirement already satisfied: rich>=10.11.0 in /usr/local/lib/python3.11/dist-packages (from typer<1.0,>=0.12->gradio) (13.9.4)\n",
            "Requirement already satisfied: six>=1.5 in /usr/local/lib/python3.11/dist-packages (from python-dateutil>=2.8.2->pandas<3.0,>=1.0->gradio) (1.17.0)\n",
            "Requirement already satisfied: markdown-it-py>=2.2.0 in /usr/local/lib/python3.11/dist-packages (from rich>=10.11.0->typer<1.0,>=0.12->gradio) (3.0.0)\n",
            "Requirement already satisfied: pygments<3.0.0,>=2.13.0 in /usr/local/lib/python3.11/dist-packages (from rich>=10.11.0->typer<1.0,>=0.12->gradio) (2.18.0)\n",
            "Requirement already satisfied: charset-normalizer<4,>=2 in /usr/local/lib/python3.11/dist-packages (from requests->huggingface-hub>=0.28.1->gradio) (3.4.1)\n",
            "Requirement already satisfied: urllib3<3,>=1.21.1 in /usr/local/lib/python3.11/dist-packages (from requests->huggingface-hub>=0.28.1->gradio) (2.3.0)\n",
            "Requirement already satisfied: mdurl~=0.1 in /usr/local/lib/python3.11/dist-packages (from markdown-it-py>=2.2.0->rich>=10.11.0->typer<1.0,>=0.12->gradio) (0.1.2)\n",
            "Downloading gradio-5.20.1-py3-none-any.whl (62.3 MB)\n",
            "\u001b[2K   \u001b[90m━━━━━━━━━━━━━━━━━━━━━━━━━━━━━━━━━━━━━━━━\u001b[0m \u001b[32m62.3/62.3 MB\u001b[0m \u001b[31m14.1 MB/s\u001b[0m eta \u001b[36m0:00:00\u001b[0m\n",
            "\u001b[?25hDownloading gradio_client-1.7.2-py3-none-any.whl (322 kB)\n",
            "\u001b[2K   \u001b[90m━━━━━━━━━━━━━━━━━━━━━━━━━━━━━━━━━━━━━━━━\u001b[0m \u001b[32m322.1/322.1 kB\u001b[0m \u001b[31m23.4 MB/s\u001b[0m eta \u001b[36m0:00:00\u001b[0m\n",
            "\u001b[?25hDownloading aiofiles-23.2.1-py3-none-any.whl (15 kB)\n",
            "Downloading fastapi-0.115.11-py3-none-any.whl (94 kB)\n",
            "\u001b[2K   \u001b[90m━━━━━━━━━━━━━━━━━━━━━━━━━━━━━━━━━━━━━━━━\u001b[0m \u001b[32m94.9/94.9 kB\u001b[0m \u001b[31m9.5 MB/s\u001b[0m eta \u001b[36m0:00:00\u001b[0m\n",
            "\u001b[?25hDownloading groovy-0.1.2-py3-none-any.whl (14 kB)\n",
            "Downloading MarkupSafe-2.1.5-cp311-cp311-manylinux_2_17_x86_64.manylinux2014_x86_64.whl (28 kB)\n",
            "Downloading python_multipart-0.0.20-py3-none-any.whl (24 kB)\n",
            "Downloading ruff-0.9.10-py3-none-manylinux_2_17_x86_64.manylinux2014_x86_64.whl (11.3 MB)\n",
            "\u001b[2K   \u001b[90m━━━━━━━━━━━━━━━━━━━━━━━━━━━━━━━━━━━━━━━━\u001b[0m \u001b[32m11.3/11.3 MB\u001b[0m \u001b[31m66.5 MB/s\u001b[0m eta \u001b[36m0:00:00\u001b[0m\n",
            "\u001b[?25hDownloading safehttpx-0.1.6-py3-none-any.whl (8.7 kB)\n",
            "Downloading semantic_version-2.10.0-py2.py3-none-any.whl (15 kB)\n",
            "Downloading starlette-0.46.1-py3-none-any.whl (71 kB)\n",
            "\u001b[2K   \u001b[90m━━━━━━━━━━━━━━━━━━━━━━━━━━━━━━━━━━━━━━━━\u001b[0m \u001b[32m72.0/72.0 kB\u001b[0m \u001b[31m7.6 MB/s\u001b[0m eta \u001b[36m0:00:00\u001b[0m\n",
            "\u001b[?25hDownloading tomlkit-0.13.2-py3-none-any.whl (37 kB)\n",
            "Downloading uvicorn-0.34.0-py3-none-any.whl (62 kB)\n",
            "\u001b[2K   \u001b[90m━━━━━━━━━━━━━━━━━━━━━━━━━━━━━━━━━━━━━━━━\u001b[0m \u001b[32m62.3/62.3 kB\u001b[0m \u001b[31m5.6 MB/s\u001b[0m eta \u001b[36m0:00:00\u001b[0m\n",
            "\u001b[?25hDownloading ffmpy-0.5.0-py3-none-any.whl (6.0 kB)\n",
            "Downloading pydub-0.25.1-py2.py3-none-any.whl (32 kB)\n",
            "Installing collected packages: pydub, uvicorn, tomlkit, semantic-version, ruff, python-multipart, markupsafe, groovy, ffmpy, aiofiles, starlette, safehttpx, gradio-client, fastapi, gradio\n",
            "  Attempting uninstall: markupsafe\n",
            "    Found existing installation: MarkupSafe 3.0.2\n",
            "    Uninstalling MarkupSafe-3.0.2:\n",
            "      Successfully uninstalled MarkupSafe-3.0.2\n",
            "Successfully installed aiofiles-23.2.1 fastapi-0.115.11 ffmpy-0.5.0 gradio-5.20.1 gradio-client-1.7.2 groovy-0.1.2 markupsafe-2.1.5 pydub-0.25.1 python-multipart-0.0.20 ruff-0.9.10 safehttpx-0.1.6 semantic-version-2.10.0 starlette-0.46.1 tomlkit-0.13.2 uvicorn-0.34.0\n"
          ]
        }
      ],
      "source": [
        "!pip install gradio"
      ]
    },
    {
      "cell_type": "code",
      "source": [
        "%matplotlib inline\n",
        "import numpy as np\n",
        "import matplotlib.pyplot as plt\n",
        "from PIL import Image\n",
        "\n",
        "import tensorflow as tf\n",
        "from tensorflow.keras.datasets import mnist\n",
        "from tensorflow.keras.utils import to_categorical\n",
        "from tensorflow.keras.models import Sequential\n",
        "from tensorflow.keras.layers import Dense\n",
        "from tensorflow.keras.optimizers import SGD\n",
        "\n",
        "from ipywidgets import interact_manual\n",
        "import gradio as gr"
      ],
      "metadata": {
        "id": "YujP7vMPbaz9"
      },
      "execution_count": null,
      "outputs": []
    },
    {
      "cell_type": "code",
      "source": [
        "(x_train, y_train), (x_test, y_test) = mnist.load_data()\n",
        "print(f'訓練資料總筆數為 {len(x_train)} 筆資料')\n",
        "print(f'測試資料總筆數為 {len(x_test)} 筆資料')\n",
        "\n",
        "x_train = x_train.reshape(60000, 784)/255\n",
        "x_test = x_test.reshape(10000, 784)/255\n",
        "\n",
        "y_train = to_categorical(y_train, 10)\n",
        "y_test = to_categorical(y_test, 10)"
      ],
      "metadata": {
        "colab": {
          "base_uri": "https://localhost:8080/"
        },
        "id": "2URPuutobpWE",
        "outputId": "cb82e657-fc43-4e3f-e5f3-3f7fc585a65c"
      },
      "execution_count": 40,
      "outputs": [
        {
          "output_type": "stream",
          "name": "stdout",
          "text": [
            "訓練資料總筆數為 60000 筆資料\n",
            "測試資料總筆數為 10000 筆資料\n"
          ]
        }
      ]
    },
    {
      "cell_type": "markdown",
      "source": [
        "2. 建構神經網路  \n",
        "增加hidden layer，四層[128, 64, 32, 32]"
      ],
      "metadata": {
        "id": "FdTnFX4ml02C"
      }
    },
    {
      "cell_type": "code",
      "source": [
        "model = Sequential()\n",
        "model.add(Dense(128, input_dim=784, activation='relu'))\n",
        "model.add(Dense(64, activation='relu'))\n",
        "model.add(Dense(32, activation='relu'))\n",
        "model.add(Dense(32, activation='relu'))\n",
        "model.add(Dense(10, activation='softmax'))\n",
        "model.compile(loss='mse', optimizer=SGD(learning_rate=0.08), metrics=['accuracy'])"
      ],
      "metadata": {
        "colab": {
          "base_uri": "https://localhost:8080/"
        },
        "id": "X9d_gEFVbsBn",
        "outputId": "15fa6879-b2fb-4262-d178-af7e432937be"
      },
      "execution_count": 41,
      "outputs": [
        {
          "output_type": "stream",
          "name": "stderr",
          "text": [
            "/usr/local/lib/python3.11/dist-packages/keras/src/layers/core/dense.py:87: UserWarning: Do not pass an `input_shape`/`input_dim` argument to a layer. When using Sequential models, prefer using an `Input(shape)` object as the first layer in the model instead.\n",
            "  super().__init__(activity_regularizer=activity_regularizer, **kwargs)\n"
          ]
        }
      ]
    },
    {
      "cell_type": "code",
      "source": [
        "model.summary()"
      ],
      "metadata": {
        "colab": {
          "base_uri": "https://localhost:8080/",
          "height": 306
        },
        "id": "xCceAbaLbuS8",
        "outputId": "795317e5-a2b0-4986-8d66-3325473a9246"
      },
      "execution_count": 42,
      "outputs": [
        {
          "output_type": "display_data",
          "data": {
            "text/plain": [
              "\u001b[1mModel: \"sequential_6\"\u001b[0m\n"
            ],
            "text/html": [
              "<pre style=\"white-space:pre;overflow-x:auto;line-height:normal;font-family:Menlo,'DejaVu Sans Mono',consolas,'Courier New',monospace\"><span style=\"font-weight: bold\">Model: \"sequential_6\"</span>\n",
              "</pre>\n"
            ]
          },
          "metadata": {}
        },
        {
          "output_type": "display_data",
          "data": {
            "text/plain": [
              "┏━━━━━━━━━━━━━━━━━━━━━━━━━━━━━━━━━━━━━━┳━━━━━━━━━━━━━━━━━━━━━━━━━━━━━┳━━━━━━━━━━━━━━━━━┓\n",
              "┃\u001b[1m \u001b[0m\u001b[1mLayer (type)                        \u001b[0m\u001b[1m \u001b[0m┃\u001b[1m \u001b[0m\u001b[1mOutput Shape               \u001b[0m\u001b[1m \u001b[0m┃\u001b[1m \u001b[0m\u001b[1m        Param #\u001b[0m\u001b[1m \u001b[0m┃\n",
              "┡━━━━━━━━━━━━━━━━━━━━━━━━━━━━━━━━━━━━━━╇━━━━━━━━━━━━━━━━━━━━━━━━━━━━━╇━━━━━━━━━━━━━━━━━┩\n",
              "│ dense_41 (\u001b[38;5;33mDense\u001b[0m)                     │ (\u001b[38;5;45mNone\u001b[0m, \u001b[38;5;34m128\u001b[0m)                 │         \u001b[38;5;34m100,480\u001b[0m │\n",
              "├──────────────────────────────────────┼─────────────────────────────┼─────────────────┤\n",
              "│ dense_42 (\u001b[38;5;33mDense\u001b[0m)                     │ (\u001b[38;5;45mNone\u001b[0m, \u001b[38;5;34m64\u001b[0m)                  │           \u001b[38;5;34m8,256\u001b[0m │\n",
              "├──────────────────────────────────────┼─────────────────────────────┼─────────────────┤\n",
              "│ dense_43 (\u001b[38;5;33mDense\u001b[0m)                     │ (\u001b[38;5;45mNone\u001b[0m, \u001b[38;5;34m32\u001b[0m)                  │           \u001b[38;5;34m2,080\u001b[0m │\n",
              "├──────────────────────────────────────┼─────────────────────────────┼─────────────────┤\n",
              "│ dense_44 (\u001b[38;5;33mDense\u001b[0m)                     │ (\u001b[38;5;45mNone\u001b[0m, \u001b[38;5;34m32\u001b[0m)                  │           \u001b[38;5;34m1,056\u001b[0m │\n",
              "├──────────────────────────────────────┼─────────────────────────────┼─────────────────┤\n",
              "│ dense_45 (\u001b[38;5;33mDense\u001b[0m)                     │ (\u001b[38;5;45mNone\u001b[0m, \u001b[38;5;34m10\u001b[0m)                  │             \u001b[38;5;34m330\u001b[0m │\n",
              "└──────────────────────────────────────┴─────────────────────────────┴─────────────────┘\n"
            ],
            "text/html": [
              "<pre style=\"white-space:pre;overflow-x:auto;line-height:normal;font-family:Menlo,'DejaVu Sans Mono',consolas,'Courier New',monospace\">┏━━━━━━━━━━━━━━━━━━━━━━━━━━━━━━━━━━━━━━┳━━━━━━━━━━━━━━━━━━━━━━━━━━━━━┳━━━━━━━━━━━━━━━━━┓\n",
              "┃<span style=\"font-weight: bold\"> Layer (type)                         </span>┃<span style=\"font-weight: bold\"> Output Shape                </span>┃<span style=\"font-weight: bold\">         Param # </span>┃\n",
              "┡━━━━━━━━━━━━━━━━━━━━━━━━━━━━━━━━━━━━━━╇━━━━━━━━━━━━━━━━━━━━━━━━━━━━━╇━━━━━━━━━━━━━━━━━┩\n",
              "│ dense_41 (<span style=\"color: #0087ff; text-decoration-color: #0087ff\">Dense</span>)                     │ (<span style=\"color: #00d7ff; text-decoration-color: #00d7ff\">None</span>, <span style=\"color: #00af00; text-decoration-color: #00af00\">128</span>)                 │         <span style=\"color: #00af00; text-decoration-color: #00af00\">100,480</span> │\n",
              "├──────────────────────────────────────┼─────────────────────────────┼─────────────────┤\n",
              "│ dense_42 (<span style=\"color: #0087ff; text-decoration-color: #0087ff\">Dense</span>)                     │ (<span style=\"color: #00d7ff; text-decoration-color: #00d7ff\">None</span>, <span style=\"color: #00af00; text-decoration-color: #00af00\">64</span>)                  │           <span style=\"color: #00af00; text-decoration-color: #00af00\">8,256</span> │\n",
              "├──────────────────────────────────────┼─────────────────────────────┼─────────────────┤\n",
              "│ dense_43 (<span style=\"color: #0087ff; text-decoration-color: #0087ff\">Dense</span>)                     │ (<span style=\"color: #00d7ff; text-decoration-color: #00d7ff\">None</span>, <span style=\"color: #00af00; text-decoration-color: #00af00\">32</span>)                  │           <span style=\"color: #00af00; text-decoration-color: #00af00\">2,080</span> │\n",
              "├──────────────────────────────────────┼─────────────────────────────┼─────────────────┤\n",
              "│ dense_44 (<span style=\"color: #0087ff; text-decoration-color: #0087ff\">Dense</span>)                     │ (<span style=\"color: #00d7ff; text-decoration-color: #00d7ff\">None</span>, <span style=\"color: #00af00; text-decoration-color: #00af00\">32</span>)                  │           <span style=\"color: #00af00; text-decoration-color: #00af00\">1,056</span> │\n",
              "├──────────────────────────────────────┼─────────────────────────────┼─────────────────┤\n",
              "│ dense_45 (<span style=\"color: #0087ff; text-decoration-color: #0087ff\">Dense</span>)                     │ (<span style=\"color: #00d7ff; text-decoration-color: #00d7ff\">None</span>, <span style=\"color: #00af00; text-decoration-color: #00af00\">10</span>)                  │             <span style=\"color: #00af00; text-decoration-color: #00af00\">330</span> │\n",
              "└──────────────────────────────────────┴─────────────────────────────┴─────────────────┘\n",
              "</pre>\n"
            ]
          },
          "metadata": {}
        },
        {
          "output_type": "display_data",
          "data": {
            "text/plain": [
              "\u001b[1m Total params: \u001b[0m\u001b[38;5;34m112,202\u001b[0m (438.29 KB)\n"
            ],
            "text/html": [
              "<pre style=\"white-space:pre;overflow-x:auto;line-height:normal;font-family:Menlo,'DejaVu Sans Mono',consolas,'Courier New',monospace\"><span style=\"font-weight: bold\"> Total params: </span><span style=\"color: #00af00; text-decoration-color: #00af00\">112,202</span> (438.29 KB)\n",
              "</pre>\n"
            ]
          },
          "metadata": {}
        },
        {
          "output_type": "display_data",
          "data": {
            "text/plain": [
              "\u001b[1m Trainable params: \u001b[0m\u001b[38;5;34m112,202\u001b[0m (438.29 KB)\n"
            ],
            "text/html": [
              "<pre style=\"white-space:pre;overflow-x:auto;line-height:normal;font-family:Menlo,'DejaVu Sans Mono',consolas,'Courier New',monospace\"><span style=\"font-weight: bold\"> Trainable params: </span><span style=\"color: #00af00; text-decoration-color: #00af00\">112,202</span> (438.29 KB)\n",
              "</pre>\n"
            ]
          },
          "metadata": {}
        },
        {
          "output_type": "display_data",
          "data": {
            "text/plain": [
              "\u001b[1m Non-trainable params: \u001b[0m\u001b[38;5;34m0\u001b[0m (0.00 B)\n"
            ],
            "text/html": [
              "<pre style=\"white-space:pre;overflow-x:auto;line-height:normal;font-family:Menlo,'DejaVu Sans Mono',consolas,'Courier New',monospace\"><span style=\"font-weight: bold\"> Non-trainable params: </span><span style=\"color: #00af00; text-decoration-color: #00af00\">0</span> (0.00 B)\n",
              "</pre>\n"
            ]
          },
          "metadata": {}
        }
      ]
    },
    {
      "cell_type": "markdown",
      "source": [
        "3. 設定訓練參數開始訓練  \n",
        "減少batch size， 100->32  \n",
        "訓練10 epoch  "
      ],
      "metadata": {
        "id": "gbq98cp8tTVw"
      }
    },
    {
      "cell_type": "code",
      "source": [
        "model.fit(x_train, y_train, batch_size=32, epochs=10)\n",
        "score = model.evaluate(x_test, y_test)\n",
        "print('測試資料loss:', score[0])\n",
        "print('測試資料正確率', score[1])"
      ],
      "metadata": {
        "colab": {
          "base_uri": "https://localhost:8080/"
        },
        "id": "mlmU78G0bxDj",
        "outputId": "a711829b-77a6-4713-d064-cebe60f84f27"
      },
      "execution_count": 43,
      "outputs": [
        {
          "output_type": "stream",
          "name": "stdout",
          "text": [
            "Epoch 1/10\n",
            "\u001b[1m1875/1875\u001b[0m \u001b[32m━━━━━━━━━━━━━━━━━━━━\u001b[0m\u001b[37m\u001b[0m \u001b[1m5s\u001b[0m 2ms/step - accuracy: 0.2359 - loss: 0.0869\n",
            "Epoch 2/10\n",
            "\u001b[1m1875/1875\u001b[0m \u001b[32m━━━━━━━━━━━━━━━━━━━━\u001b[0m\u001b[37m\u001b[0m \u001b[1m6s\u001b[0m 3ms/step - accuracy: 0.7846 - loss: 0.0355\n",
            "Epoch 3/10\n",
            "\u001b[1m1875/1875\u001b[0m \u001b[32m━━━━━━━━━━━━━━━━━━━━\u001b[0m\u001b[37m\u001b[0m \u001b[1m9s\u001b[0m 2ms/step - accuracy: 0.8920 - loss: 0.0170\n",
            "Epoch 4/10\n",
            "\u001b[1m1875/1875\u001b[0m \u001b[32m━━━━━━━━━━━━━━━━━━━━\u001b[0m\u001b[37m\u001b[0m \u001b[1m5s\u001b[0m 2ms/step - accuracy: 0.9121 - loss: 0.0136\n",
            "Epoch 5/10\n",
            "\u001b[1m1875/1875\u001b[0m \u001b[32m━━━━━━━━━━━━━━━━━━━━\u001b[0m\u001b[37m\u001b[0m \u001b[1m4s\u001b[0m 2ms/step - accuracy: 0.9231 - loss: 0.0118\n",
            "Epoch 6/10\n",
            "\u001b[1m1875/1875\u001b[0m \u001b[32m━━━━━━━━━━━━━━━━━━━━\u001b[0m\u001b[37m\u001b[0m \u001b[1m5s\u001b[0m 2ms/step - accuracy: 0.9331 - loss: 0.0104\n",
            "Epoch 7/10\n",
            "\u001b[1m1875/1875\u001b[0m \u001b[32m━━━━━━━━━━━━━━━━━━━━\u001b[0m\u001b[37m\u001b[0m \u001b[1m5s\u001b[0m 2ms/step - accuracy: 0.9401 - loss: 0.0093\n",
            "Epoch 8/10\n",
            "\u001b[1m1875/1875\u001b[0m \u001b[32m━━━━━━━━━━━━━━━━━━━━\u001b[0m\u001b[37m\u001b[0m \u001b[1m5s\u001b[0m 2ms/step - accuracy: 0.9458 - loss: 0.0085\n",
            "Epoch 9/10\n",
            "\u001b[1m1875/1875\u001b[0m \u001b[32m━━━━━━━━━━━━━━━━━━━━\u001b[0m\u001b[37m\u001b[0m \u001b[1m5s\u001b[0m 3ms/step - accuracy: 0.9505 - loss: 0.0078\n",
            "Epoch 10/10\n",
            "\u001b[1m1875/1875\u001b[0m \u001b[32m━━━━━━━━━━━━━━━━━━━━\u001b[0m\u001b[37m\u001b[0m \u001b[1m4s\u001b[0m 2ms/step - accuracy: 0.9559 - loss: 0.0070\n",
            "\u001b[1m313/313\u001b[0m \u001b[32m━━━━━━━━━━━━━━━━━━━━\u001b[0m\u001b[37m\u001b[0m \u001b[1m1s\u001b[0m 3ms/step - accuracy: 0.9436 - loss: 0.0085\n",
            "測試資料loss: 0.007446414325386286\n",
            "測試資料正確率 0.9506000280380249\n"
          ]
        }
      ]
    },
    {
      "cell_type": "markdown",
      "source": [
        "4. 在Gradio測試"
      ],
      "metadata": {
        "id": "qUTJKk3Stb0s"
      }
    },
    {
      "cell_type": "code",
      "source": [
        "def resize_image(inp):\n",
        "    # 圖在 inp[\"layers\"][0]\n",
        "    image = np.array(inp[\"layers\"][0], dtype=np.float32)\n",
        "    image = image.astype(np.uint8)\n",
        "\n",
        "    # 轉成 PIL 格式\n",
        "    image_pil = Image.fromarray(image)\n",
        "\n",
        "    # Alpha 通道設為白色, 再把圖從 RGBA 轉成 RGB\n",
        "    background = Image.new(\"RGB\", image_pil.size, (255, 255, 255))\n",
        "    background.paste(image_pil, mask=image_pil.split()[3]) # 把圖片粘貼到白色背景上，使用透明通道作為遮罩\n",
        "    image_pil = background\n",
        "\n",
        "    # 轉換為灰階圖像\n",
        "    image_gray = image_pil.convert(\"L\")\n",
        "\n",
        "    # 將灰階圖像縮放到 28x28, 轉回 numpy array\n",
        "    img_array = np.array(image_gray.resize((28, 28), resample=Image.LANCZOS))\n",
        "\n",
        "    # 配合 MNIST 數據集\n",
        "    img_array = 255 - img_array\n",
        "\n",
        "    # 拉平並縮放\n",
        "    img_array = img_array.reshape(1, 784) / 255.0\n",
        "\n",
        "    return img_array"
      ],
      "metadata": {
        "id": "M1eUR6mJb2uH"
      },
      "execution_count": 44,
      "outputs": []
    },
    {
      "cell_type": "code",
      "source": [
        "def recognize_digit(inp):\n",
        "    img_array = resize_image(inp)\n",
        "    prediction = model.predict(img_array).flatten()\n",
        "    labels = list('0123456789')\n",
        "    return {labels[i]: float(prediction[i]) for i in range(10)}"
      ],
      "metadata": {
        "id": "gwv05X6rb6JX"
      },
      "execution_count": 45,
      "outputs": []
    },
    {
      "cell_type": "code",
      "source": [
        "iface = gr.Interface(\n",
        "    fn=recognize_digit,\n",
        "    inputs=gr.Sketchpad(),\n",
        "    outputs=gr.Label(num_top_classes=3),\n",
        "    title=\"MNIST 手寫辨識\",\n",
        "    description=\"請在畫板上繪製數字\"\n",
        ")\n",
        "\n",
        "iface.launch(share=True, debug=True)"
      ],
      "metadata": {
        "colab": {
          "base_uri": "https://localhost:8080/",
          "height": 663
        },
        "id": "D2CwGC_Hb7lX",
        "outputId": "9839f07a-e7da-4e8b-9118-fe670d30312d"
      },
      "execution_count": 46,
      "outputs": [
        {
          "output_type": "stream",
          "name": "stdout",
          "text": [
            "Colab notebook detected. This cell will run indefinitely so that you can see errors and logs. To turn off, set debug=False in launch().\n",
            "* Running on public URL: https://8b25be7212687d8af8.gradio.live\n",
            "\n",
            "This share link expires in 72 hours. For free permanent hosting and GPU upgrades, run `gradio deploy` from the terminal in the working directory to deploy to Hugging Face Spaces (https://huggingface.co/spaces)\n"
          ]
        },
        {
          "output_type": "display_data",
          "data": {
            "text/plain": [
              "<IPython.core.display.HTML object>"
            ],
            "text/html": [
              "<div><iframe src=\"https://8b25be7212687d8af8.gradio.live\" width=\"100%\" height=\"500\" allow=\"autoplay; camera; microphone; clipboard-read; clipboard-write;\" frameborder=\"0\" allowfullscreen></iframe></div>"
            ]
          },
          "metadata": {}
        },
        {
          "output_type": "stream",
          "name": "stdout",
          "text": [
            "\u001b[1m1/1\u001b[0m \u001b[32m━━━━━━━━━━━━━━━━━━━━\u001b[0m\u001b[37m\u001b[0m \u001b[1m0s\u001b[0m 344ms/step\n",
            "Keyboard interruption in main thread... closing server.\n",
            "Killing tunnel 127.0.0.1:7860 <> https://8b25be7212687d8af8.gradio.live\n"
          ]
        },
        {
          "output_type": "execute_result",
          "data": {
            "text/plain": []
          },
          "metadata": {},
          "execution_count": 46
        }
      ]
    },
    {
      "cell_type": "markdown",
      "source": [
        "5. 測試結果截圖"
      ],
      "metadata": {
        "id": "TK7qjZ1cmu5g"
      }
    },
    {
      "cell_type": "markdown",
      "source": [
        "![image.png](data:image/png;base64,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)"
      ],
      "metadata": {
        "id": "ICprkUOGmlk5"
      }
    }
  ]
}